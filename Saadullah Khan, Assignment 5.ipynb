{
  "nbformat": 4,
  "nbformat_minor": 0,
  "metadata": {
    "colab": {
      "name": "Untitled1.ipynb",
      "provenance": []
    },
    "kernelspec": {
      "name": "python3",
      "display_name": "Python 3"
    },
    "language_info": {
      "name": "python"
    }
  },
  "cells": [
    {
      "cell_type": "markdown",
      "metadata": {
        "id": "kd6sWvp-71l0"
      },
      "source": [
        "# Input"
      ]
    },
    {
      "cell_type": "code",
      "metadata": {
        "id": "pzUofS4_7CZm"
      },
      "source": [
        " My_Dict = {\n",
        "        'person_1': {'name': 'Abdul Rafay', 'age': 22, 'Interests': ['football,cricket'],\n",
        "                     'amount_deposited': [24000, 26000]},\n",
        "        'person_2': {'name': 'Nancy James', 'age': 23, 'Interests': ['baseball,cricket'],\n",
        "                     'amount_deposited': [24000, 27000]},\n",
        "        'person_3': {'name': 'Selena Gomez', 'age': 26, 'Interests': ['baseball,table tennis'],\n",
        "                     'amount_deposited': [24000, 28000]}\n",
        "    }"
      ],
      "execution_count": null,
      "outputs": []
    },
    {
      "cell_type": "code",
      "metadata": {
        "colab": {
          "base_uri": "https://localhost:8080/"
        },
        "id": "3gvxg_ok75L0",
        "outputId": "c45e60a5-f0d9-434f-aaa5-dc280e2af002"
      },
      "source": [
        "# def process(MY_Dic):\n",
        "#   alp = [chr(i) for i in range(97,104) if chr (i) not in [115,109,107]]\n",
        "#   alp = tuple(alp)\n",
        "  \n",
        "#   mapping = list(map(lambda x : \"Mr. \"+x if str(x).lower().startswith(alp) else \"Mrs. \"+x, [My_Dict[i][\"name\"] for i in My_Dict]))\n",
        "#   return mapping\n",
        "\n",
        "\n",
        "# s_m_k = [chr(x) for x in [115,109,107]]\n",
        "\n",
        "# filtered_data= list(filter(lambda x : x.split(' ')[1][0].lower() not in s_m_k, process(My_Dict)))\n",
        "# print(filtered_data)"
      ],
      "execution_count": null,
      "outputs": [
        {
          "output_type": "stream",
          "text": [
            "['Mr. Abdul Rafay', 'Mrs. Nancy James']\n"
          ],
          "name": "stdout"
        }
      ]
    },
    {
      "cell_type": "code",
      "metadata": {
        "id": "5vVpKgUKLFAF"
      },
      "source": [
        ""
      ],
      "execution_count": null,
      "outputs": []
    },
    {
      "cell_type": "code",
      "metadata": {
        "colab": {
          "base_uri": "https://localhost:8080/",
          "height": 316
        },
        "id": "u_6JVnUm8_AG",
        "outputId": "7331b363-3506-4bd5-f6dd-28a43c121a94"
      },
      "source": [
        "from  functools import reduce\n",
        "def processing(elements):\n",
        "   #red_func = functools.reduce (lambda x,y: x[1]['amount_deposited'][0]+y[1]['amount_deposited'][1], elements.items() )\n",
        "\n",
        "  for person  in elements.keys():\n",
        "    elements[person]['amount_deposited'] = reduce(lambda x,y:x+y,list(elements[person]['amount_deposited']))\n",
        "    \n",
        "    print(person)\n",
        "    print(str(elements[person]['amount_deposited']))\n",
        "  \n",
        "\n",
        "  # return red_func\n",
        "\n",
        "\n",
        "\n",
        "print(processing(My_Dict))"
      ],
      "execution_count": null,
      "outputs": [
        {
          "output_type": "error",
          "ename": "TypeError",
          "evalue": "ignored",
          "traceback": [
            "\u001b[0;31m---------------------------------------------------------------------------\u001b[0m",
            "\u001b[0;31mTypeError\u001b[0m                                 Traceback (most recent call last)",
            "\u001b[0;32m<ipython-input-88-b8e3579c238c>\u001b[0m in \u001b[0;36m<module>\u001b[0;34m()\u001b[0m\n\u001b[1;32m     14\u001b[0m \u001b[0;34m\u001b[0m\u001b[0m\n\u001b[1;32m     15\u001b[0m \u001b[0;34m\u001b[0m\u001b[0m\n\u001b[0;32m---> 16\u001b[0;31m \u001b[0mprint\u001b[0m\u001b[0;34m(\u001b[0m\u001b[0mprocessing\u001b[0m\u001b[0;34m(\u001b[0m\u001b[0mMy_Dict\u001b[0m\u001b[0;34m)\u001b[0m\u001b[0;34m)\u001b[0m\u001b[0;34m\u001b[0m\u001b[0;34m\u001b[0m\u001b[0m\n\u001b[0m",
            "\u001b[0;32m<ipython-input-88-b8e3579c238c>\u001b[0m in \u001b[0;36mprocessing\u001b[0;34m(elements)\u001b[0m\n\u001b[1;32m      4\u001b[0m \u001b[0;34m\u001b[0m\u001b[0m\n\u001b[1;32m      5\u001b[0m   \u001b[0;32mfor\u001b[0m \u001b[0mperson\u001b[0m  \u001b[0;32min\u001b[0m \u001b[0melements\u001b[0m\u001b[0;34m.\u001b[0m\u001b[0mkeys\u001b[0m\u001b[0;34m(\u001b[0m\u001b[0;34m)\u001b[0m\u001b[0;34m:\u001b[0m\u001b[0;34m\u001b[0m\u001b[0;34m\u001b[0m\u001b[0m\n\u001b[0;32m----> 6\u001b[0;31m     \u001b[0melements\u001b[0m\u001b[0;34m[\u001b[0m\u001b[0mperson\u001b[0m\u001b[0;34m]\u001b[0m\u001b[0;34m[\u001b[0m\u001b[0;34m'amount_deposited'\u001b[0m\u001b[0;34m]\u001b[0m \u001b[0;34m=\u001b[0m \u001b[0mreduce\u001b[0m\u001b[0;34m(\u001b[0m\u001b[0;32mlambda\u001b[0m \u001b[0mx\u001b[0m\u001b[0;34m,\u001b[0m\u001b[0my\u001b[0m\u001b[0;34m:\u001b[0m\u001b[0mx\u001b[0m\u001b[0;34m+\u001b[0m\u001b[0my\u001b[0m\u001b[0;34m,\u001b[0m\u001b[0mlist\u001b[0m\u001b[0;34m(\u001b[0m\u001b[0melements\u001b[0m\u001b[0;34m[\u001b[0m\u001b[0mperson\u001b[0m\u001b[0;34m]\u001b[0m\u001b[0;34m[\u001b[0m\u001b[0;34m'amount_deposited'\u001b[0m\u001b[0;34m]\u001b[0m\u001b[0;34m)\u001b[0m\u001b[0;34m)\u001b[0m\u001b[0;34m\u001b[0m\u001b[0;34m\u001b[0m\u001b[0m\n\u001b[0m\u001b[1;32m      7\u001b[0m \u001b[0;34m\u001b[0m\u001b[0m\n\u001b[1;32m      8\u001b[0m     \u001b[0mprint\u001b[0m\u001b[0;34m(\u001b[0m\u001b[0mperson\u001b[0m\u001b[0;34m)\u001b[0m\u001b[0;34m\u001b[0m\u001b[0;34m\u001b[0m\u001b[0m\n",
            "\u001b[0;31mTypeError\u001b[0m: 'int' object is not iterable"
          ]
        }
      ]
    },
    {
      "cell_type": "code",
      "metadata": {
        "id": "d-azd9TSKHjj"
      },
      "source": [
        ""
      ],
      "execution_count": null,
      "outputs": []
    }
  ]
}


#QS no 5
import csv

labels = ['Name', 'Age', 'Interests','Year', 'Amount Deposited'] 
dct_arr = [
  {'Name': 'Mr. Abdul Rafay', 'Age': 22,'Interests':'baseball,cricket','Year':1997,'Amount Deposited':50000},
  {'Name': 'Ms. Nancy James', 'Age': 23,'Interests':'baseball,cricket','Year':1998,'Amount Deposited':51000}
  ]

try:
    with open('names.csv', 'w') as f:
        writer = csv.DictWriter(f, fieldnames=labels)
        writer.writeheader()
        for elem in dct_arr:
            writer.writerow(elem)
except IOError:
    print("I/O error")

#viewing csv file...

import pandas as pd
pd.read_csv('names.csv')
